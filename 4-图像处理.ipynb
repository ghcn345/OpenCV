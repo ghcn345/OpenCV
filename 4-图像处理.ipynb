{
 "cells": [
  {
   "cell_type": "code",
   "execution_count": 1,
   "id": "911ba2cf-7d6a-4557-a31a-7eaa61ef6658",
   "metadata": {},
   "outputs": [],
   "source": [
    "import numpy as np\n",
    "import cv2 as cv\n",
    "import matplotlib.pyplot as plt\n",
    "%matplotlib inline"
   ]
  },
  {
   "cell_type": "markdown",
   "id": "bd1ad415-acbe-403c-9b5f-38d5970a6dd8",
   "metadata": {},
   "source": [
    "# 改变颜色空间"
   ]
  },
  {
   "cell_type": "markdown",
   "id": "3a7c9f94-efae-4652-b84d-e94c69803028",
   "metadata": {},
   "source": [
    "## 改变颜色空间"
   ]
  },
  {
   "cell_type": "code",
   "execution_count": null,
   "id": "9cf9698d-a38b-49a7-b098-e73e6009697b",
   "metadata": {},
   "outputs": [],
   "source": [
    "flags = [i for i in dir(cv) if i.startswith('COLOR_')]\n",
    "print( flags )"
   ]
  },
  {
   "cell_type": "code",
   "execution_count": null,
   "id": "beb220df-eeaa-4dd9-96fd-d33aed0c73c4",
   "metadata": {},
   "outputs": [],
   "source": [
    "cap = cv.VideoCapture(0)\n",
    "while(1):\n",
    "    # 读取帧\n",
    "    _, frame = cap.read()\n",
    "    # 转换颜色空间 BGR 到 HSV\n",
    "    hsv = cv.cvtColor(frame, cv.COLOR_BGR2HSV)\n",
    "    # 定义HSV中蓝色的范围\n",
    "    lower_blue = np.array([110,50,50])\n",
    "    upper_blue = np.array([130,255,255])\n",
    "    # 设置HSV的阈值使得只取蓝色\n",
    "    mask = cv.inRange(hsv, lower_blue, upper_blue)\n",
    "    # 将掩膜和图像逐像素相加\n",
    "    res = cv.bitwise_and(frame,frame, mask= mask)\n",
    "    cv.imshow('frame',frame)\n",
    "    cv.imshow('mask',mask)\n",
    "    cv.imshow('res',res)\n",
    "    k = cv.waitKey(5) & 0xFF\n",
    "    if k == 27:\n",
    "        break\n",
    "cv.destroyAllWindows()"
   ]
  }
 ],
 "metadata": {
  "kernelspec": {
   "display_name": "Python 3",
   "language": "python",
   "name": "python3"
  },
  "language_info": {
   "codemirror_mode": {
    "name": "ipython",
    "version": 3
   },
   "file_extension": ".py",
   "mimetype": "text/x-python",
   "name": "python",
   "nbconvert_exporter": "python",
   "pygments_lexer": "ipython3",
   "version": "3.8.5"
  }
 },
 "nbformat": 4,
 "nbformat_minor": 5
}

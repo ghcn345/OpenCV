{
 "cells": [
  {
   "cell_type": "code",
   "execution_count": 40,
   "id": "911ba2cf-7d6a-4557-a31a-7eaa61ef6658",
   "metadata": {},
   "outputs": [],
   "source": [
    "import numpy as np\n",
    "import cv2 as cv\n",
    "import matplotlib.pyplot as plt\n",
    "%matplotlib inline"
   ]
  },
  {
   "cell_type": "markdown",
   "id": "bd1ad415-acbe-403c-9b5f-38d5970a6dd8",
   "metadata": {},
   "source": [
    "# 改变颜色空间"
   ]
  },
  {
   "cell_type": "markdown",
   "id": "3a7c9f94-efae-4652-b84d-e94c69803028",
   "metadata": {},
   "source": [
    "## 改变颜色空间"
   ]
  },
  {
   "cell_type": "code",
   "execution_count": null,
   "id": "9cf9698d-a38b-49a7-b098-e73e6009697b",
   "metadata": {},
   "outputs": [],
   "source": []
  }
 ],
 "metadata": {
  "kernelspec": {
   "display_name": "Python 3",
   "language": "python",
   "name": "python3"
  },
  "language_info": {
   "codemirror_mode": {
    "name": "ipython",
    "version": 3
   },
   "file_extension": ".py",
   "mimetype": "text/x-python",
   "name": "python",
   "nbconvert_exporter": "python",
   "pygments_lexer": "ipython3",
   "version": "3.8.5"
  }
 },
 "nbformat": 4,
 "nbformat_minor": 5
}

{
 "cells": [
  {
   "cell_type": "code",
   "execution_count": 1,
   "id": "911ba2cf-7d6a-4557-a31a-7eaa61ef6658",
   "metadata": {},
   "outputs": [],
   "source": [
    "import numpy as np\n",
    "import cv2 as cv"
   ]
  },
  {
   "cell_type": "markdown",
   "id": "bd1ad415-acbe-403c-9b5f-38d5970a6dd8",
   "metadata": {},
   "source": [
    "# 图像的基本操作"
   ]
  },
  {
   "cell_type": "code",
   "execution_count": null,
   "id": "52bbc747-dae9-4bca-9aa6-2bda2ab304d4",
   "metadata": {},
   "outputs": [],
   "source": []
  },
  {
   "cell_type": "code",
   "execution_count": null,
   "id": "e433a056-421d-41b7-80b0-4becdbb0a134",
   "metadata": {},
   "outputs": [],
   "source": []
  },
  {
   "cell_type": "code",
   "execution_count": null,
   "id": "5e4026a7-387b-4687-9a19-5952dce7ccdb",
   "metadata": {},
   "outputs": [],
   "source": []
  },
  {
   "cell_type": "code",
   "execution_count": null,
   "id": "2c6f7de3-1c51-43da-8b0b-22a479eb2806",
   "metadata": {},
   "outputs": [],
   "source": []
  }
 ],
 "metadata": {
  "kernelspec": {
   "display_name": "Python 3",
   "language": "python",
   "name": "python3"
  },
  "language_info": {
   "codemirror_mode": {
    "name": "ipython",
    "version": 3
   },
   "file_extension": ".py",
   "mimetype": "text/x-python",
   "name": "python",
   "nbconvert_exporter": "python",
   "pygments_lexer": "ipython3",
   "version": "3.8.5"
  }
 },
 "nbformat": 4,
 "nbformat_minor": 5
}

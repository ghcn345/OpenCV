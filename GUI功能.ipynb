{
 "cells": [
  {
   "cell_type": "code",
   "execution_count": null,
   "id": "911ba2cf-7d6a-4557-a31a-7eaa61ef6658",
   "metadata": {},
   "outputs": [],
   "source": [
    "import numpy as np\n",
    "import cv2 as cv\n",
    "from matplotlib import pyplot as plt"
   ]
  },
  {
   "cell_type": "code",
   "execution_count": null,
   "id": "11445def-356c-40c7-b69d-6382a6308987",
   "metadata": {},
   "outputs": [],
   "source": [
    "# 读取图像\n",
    "# 用灰度模式加载图像\n",
    "\n",
    "img = cv.imread('.jpg', 0)"
   ]
  },
  {
   "cell_type": "code",
   "execution_count": null,
   "id": "a27ce0a1-8320-4942-a6ab-3e7de5fdf2b6",
   "metadata": {},
   "outputs": [],
   "source": [
    "# 显示图像\n",
    "\n",
    "cv.imshow('image', img)\n",
    "cv.waitKey(0)\n",
    "cv.destroyAllWindows()"
   ]
  },
  {
   "cell_type": "code",
   "execution_count": null,
   "id": "f1b95486-e9c3-40cb-99d9-8d949752325f",
   "metadata": {},
   "outputs": [],
   "source": [
    "cv.namedWindow('image', cv.WINDOW_NORMAL)\n",
    "cv.imshow('image',img)\n",
    "cv.waitKey(0)\n",
    "cv.destroyAllWindows()"
   ]
  },
  {
   "cell_type": "code",
   "execution_count": null,
   "id": "8c3b094a-b13c-42c9-a634-21c7eed0d474",
   "metadata": {},
   "outputs": [],
   "source": [
    "# 保存图像\n",
    "\n",
    "cv.imwrite('.png',img)"
   ]
  },
  {
   "cell_type": "code",
   "execution_count": null,
   "id": "86938304-69b5-47f2-a15b-5f2f67e8a72b",
   "metadata": {},
   "outputs": [],
   "source": [
    "img = cv.imread('.jpg',0)\n",
    "cv.imshow('image',img)\n",
    "k = cv.waitKey(0)\n",
    "if k == 27: # ESC 退出\n",
    "    cv.destroyAllWindows()\n",
    "elif k == ord('s'): # 's' 保存退出\n",
    "    cv.imwrite('.png',img)\n",
    "    cv.destroyAllWindows()"
   ]
  },
  {
   "cell_type": "code",
   "execution_count": null,
   "id": "8276db73-b627-456b-a26e-71a54be31732",
   "metadata": {},
   "outputs": [],
   "source": [
    "img = cv.imread('messi5.jpg',0)\n",
    "plt.imshow(img, cmap = 'gray', interpolation = 'bicubic')\n",
    "plt.xticks([]), plt.yticks([]) # 隐藏 X 和 Y 轴的刻度值\n",
    "plt.show()"
   ]
  }
 ],
 "metadata": {
  "kernelspec": {
   "display_name": "Python 3",
   "language": "python",
   "name": "python3"
  },
  "language_info": {
   "codemirror_mode": {
    "name": "ipython",
    "version": 3
   },
   "file_extension": ".py",
   "mimetype": "text/x-python",
   "name": "python",
   "nbconvert_exporter": "python",
   "pygments_lexer": "ipython3",
   "version": "3.8.5"
  }
 },
 "nbformat": 4,
 "nbformat_minor": 5
}
